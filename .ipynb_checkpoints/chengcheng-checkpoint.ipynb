{
 "cells": [
  {
   "cell_type": "markdown",
   "metadata": {},
   "source": [
    "# MLLAB project Recommand System -- chengcheng Guo\n"
   ]
  },
  {
   "cell_type": "markdown",
   "metadata": {},
   "source": [
    "### load data"
   ]
  },
  {
   "cell_type": "code",
   "execution_count": 2,
   "metadata": {},
   "outputs": [],
   "source": [
    "import numpy as np\n",
    "# load data\n",
    "data = np.load('dataset.npy')"
   ]
  },
  {
   "cell_type": "code",
   "execution_count": 3,
   "metadata": {},
   "outputs": [
    {
     "data": {
      "text/plain": [
       "array([[   2,  566,    1],\n",
       "       [   2,  750,    2],\n",
       "       [   2,  391,    1],\n",
       "       ...,\n",
       "       [5498,  516,    2],\n",
       "       [5498,  650,    3],\n",
       "       [5498,  651,    2]])"
      ]
     },
     "execution_count": 3,
     "metadata": {},
     "output_type": "execute_result"
    }
   ],
   "source": [
    "# userID, ItemID , Rating\n",
    "data"
   ]
  },
  {
   "cell_type": "code",
   "execution_count": 4,
   "metadata": {},
   "outputs": [
    {
     "name": "stdout",
     "output_type": "stream",
     "text": [
      "data shape is :  (380311, 3)\n"
     ]
    }
   ],
   "source": [
    "shape_d = data.shape\n",
    "print(\"data shape is : \",shape_d)"
   ]
  },
  {
   "cell_type": "code",
   "execution_count": 5,
   "metadata": {},
   "outputs": [
    {
     "name": "stdout",
     "output_type": "stream",
     "text": [
      "we have 1643 users\n",
      "we have 1194 items\n",
      "we have 5 ratings\n"
     ]
    }
   ],
   "source": [
    "# Getting the number of  users ,items ,rates\n",
    "import pandas as pd\n",
    "df = pd.DataFrame(data)\n",
    "\n",
    "users, items, ratings = df.nunique()\n",
    "print(\"we have %d users\"%users)\n",
    "print(\"we have %d items\"%items)\n",
    "print(\"we have %d ratings\"%ratings)"
   ]
  },
  {
   "cell_type": "code",
   "execution_count": 6,
   "metadata": {},
   "outputs": [
    {
     "name": "stdout",
     "output_type": "stream",
     "text": [
      "biggest user id:  5498\n",
      "biggest item id:  2079\n"
     ]
    }
   ],
   "source": [
    "print(\"biggest user id: \", np.max(data[:,0]))\n",
    "print(\"biggest item id: \", np.max(data[:,1]))"
   ]
  },
  {
   "cell_type": "code",
   "execution_count": 7,
   "metadata": {},
   "outputs": [
    {
     "data": {
      "text/plain": [
       "0.3963046033377946"
      ]
     },
     "execution_count": 7,
     "metadata": {},
     "output_type": "execute_result"
    }
   ],
   "source": [
    "mue = np.mean(data[:,2])\n",
    "mue"
   ]
  },
  {
   "cell_type": "code",
   "execution_count": 8,
   "metadata": {},
   "outputs": [
    {
     "data": {
      "image/png": "[encoded data removed]",
      "text/plain": [
       "<Figure size 432x288 with 1 Axes>"
      ]
     },
     "metadata": {
      "needs_background": "light"
     },
     "output_type": "display_data"
    }
   ],
   "source": [
    "import matplotlib.pyplot as plt\n",
    "# Plot histogram\n",
    "unique, counts = np.unique(data[:,2], return_counts=True)\n",
    "plt.bar(unique, counts, align='center', color = \"orange\")\n",
    "plt.xticks(unique)\n",
    "plt.xlabel('Rating')\n",
    "plt.ylabel('Sum')\n",
    "plt.title('Distribution of ratings')\n",
    "plt.show()"
   ]
  },
  {
   "cell_type": "code",
   "execution_count": 10,
   "metadata": {},
   "outputs": [],
   "source": [
    "# TODO: Split data into train and test data\n",
    "from sklearn.model_selection import train_test_split\n",
    "# seperate rate = 0 and no rate\n",
    "data[:,2]=data[:,2]+1\n",
    "\n",
    "X_train, X_test= train_test_split(data, test_size=0.2)"
   ]
  },
  {
   "cell_type": "code",
   "execution_count": 11,
   "metadata": {},
   "outputs": [],
   "source": [
    "# reconstruct dense matrix to Sparse matrix \n",
    "from scipy.sparse import csr_matrix\n",
    "\n",
    "def sparse_matrix(data):\n",
    "    return csr_matrix((data[:,2], (data[:,0].astype(int), data[:,1].astype(int))))"
   ]
  },
  {
   "cell_type": "code",
   "execution_count": 12,
   "metadata": {},
   "outputs": [],
   "source": [
    "Xtrain_sparse = sparse_matrix(X_train)\n",
    "Xtest_sparse  = sparse_matrix(X_test)"
   ]
  },
  {
   "cell_type": "markdown",
   "metadata": {},
   "source": [
    "### KNN"
   ]
  },
  {
   "cell_type": "markdown",
   "metadata": {},
   "source": [
    "Here we want to use the [Pearson correlation coefficient](https://en.wikipedia.org/wiki/Pearson_correlation_coefficient) as a measure for correlation between two items.\n",
    "\n",
    "\n",
    "\n",
    "\\begin{eqnarray}\n",
    "\\operatorname{sim}(i, j) & = & \\frac{\\sum_{u \\in \\operatorname{InJ}}\\left(r_{u i}-\\mu_{i}\\right)\\left(r_{u j}-\\mu_{j}\\right)}{\\sqrt{\\sum_{u \\in \\operatorname{InJ}}\\left(r_{u i}-\\mu_{i}\\right)^{2}} \\sqrt{\\sum_{u \\in I \\cap J}\\left(r_{u j}-\\mu_{j}\\right)^{2}}}\n",
    "\\end{eqnarray}"
   ]
  },
  {
   "cell_type": "code",
   "execution_count": 13,
   "metadata": {},
   "outputs": [],
   "source": [
    "from tqdm.notebook import tqdm"
   ]
  },
  {
   "cell_type": "code",
   "execution_count": 14,
   "metadata": {},
   "outputs": [],
   "source": [
    "# \n",
    "mean_train = csr_matrix.sum(Xtrain_sparse)/csr_matrix.count_nonzero(Xtrain_sparse)\n",
    "mean_test = csr_matrix.sum(Xtest_sparse)/csr_matrix.count_nonzero(Xtest_sparse)\n",
    "\n",
    "user_num, item_num = Xtrain_sparse.shape\n",
    "\n",
    "# items\n",
    "count_nonzeros = [csr_matrix.count_nonzero(Xtrain_sparse[:,i]) for i in range(item_num)]\n",
    "sum_item = csr_matrix.sum(Xtrain_sparse, axis = 0)\n",
    "mue_item = [mean_train if count_nonzeros[i] == 0 else sum_item[0,i]/count_nonzeros[i] for i in range(item_num)]\n",
    "#mue_item = [0 if count_nonzeros[i] == 0 else sum_item[0,i]/count_nonzeros[i] for i in range(item_num)]\n",
    "mue_item = np.array(mue_item)\n",
    "\n",
    "# users\n",
    "count_nonzeros = [csr_matrix.count_nonzero(Xtrain_sparse[i,:]) for i in range(user_num)]\n",
    "sum_users = csr_matrix.sum(Xtrain_sparse, axis = 1)\n",
    "mue_user = [mean_train if count_nonzeros[i] == 0 else sum_users[i]/count_nonzeros[i] for i in range(user_num)]\n",
    "#mue_item = [0 if count_nonzeros[i] == 0 else sum_item[0,i]/count_nonzeros[i] for i in range(item_num)]\n",
    "mue_user = np.array(mue_user)"
   ]
  },
  {
   "cell_type": "code",
   "execution_count": 16,
   "metadata": {},
   "outputs": [],
   "source": [
    "def Pearson_corr(matrix, mue_item):\n",
    "    \n",
    "    Corr = np.zeros((item_num,item_num), dtype=float)\n",
    "    for i in tqdm(range(item_num)):\n",
    "        u = np.squeeze(matrix[:,i].toarray())\n",
    "        mue_u=mue_item[i]\n",
    "        u = [(u[n] - mue_item[i]) if u[n] > 0 else 0 for n in range(user_num)]\n",
    "        u_d = np.sqrt(np.dot(u,u))\n",
    "        for j in range(i,item_num):\n",
    "            u2 = np.squeeze(matrix[:,i].toarray())\n",
    "            mue_u2=mue_item[i]\n",
    "            u2 = [(u2[n] - mue_item[i]) if u2[n] > 0 else 0 for n in range(user_num)]\n",
    "            u2_d = np.sqrt(np.dot(u2,u2))\n",
    "            sim_numerator = np.dot(u,u2)            \n",
    "            sim_denominator = u_d*u2_d\n",
    "            if sim_denominator!=0:\n",
    "                sim=sim_numerator/sim_denominator\n",
    "            else:\n",
    "                sim=-float('inf')\n",
    "            Corr[i,j]=sim\n",
    "            Corr[j,i]=sim\n",
    "                        \n",
    "    return Corr"
   ]
  },
  {
   "cell_type": "code",
   "execution_count": 17,
   "metadata": {},
   "outputs": [
    {
     "data": {
      "application/vnd.jupyter.widget-view+json": {
       "model_id": "e2ab61b8372f437eba448ada465e5a92",
       "version_major": 2,
       "version_minor": 0
      },
      "text/plain": [
       "HBox(children=(FloatProgress(value=0.0, max=2080.0), HTML(value='')))"
      ]
     },
     "metadata": {},
     "output_type": "display_data"
    },
    {
     "name": "stdout",
     "output_type": "stream",
     "text": [
      "\n",
      "Wall time: 6h 12min 46s\n"
     ]
    }
   ],
   "source": [
    "%%time\n",
    "sim_train = Pearson_corr(Xtrain_sparse,mue_item)\n",
    "np.savetxt('sim_train_2.csv', sim_train, delimiter = ',')"
   ]
  },
  {
   "cell_type": "code",
   "execution_count": 29,
   "metadata": {},
   "outputs": [],
   "source": [
    "# read corr dataset because it take too long to calculate\n",
    "Corr_train = np.genfromtxt(\"sim_train_2.csv\", delimiter=\",\", dtype=np.float)"
   ]
  },
  {
   "cell_type": "markdown",
   "metadata": {},
   "source": [
    "\\begin{array}{c}\n",
    "\\quad b_{u}=\\mu_{u}-\\mu   \\\\\n",
    "\\quad b_{i}=\\mu_{i}-\\mu  \\\\\n",
    "\\end{array}"
   ]
  },
  {
   "cell_type": "code",
   "execution_count": null,
   "metadata": {},
   "outputs": [],
   "source": [
    "#bias\n",
    "b_item=np.subtract(mue_item,mue)\n",
    "b_user=np.subtract(mue_user,mue)"
   ]
  },
  {
   "cell_type": "markdown",
   "metadata": {},
   "source": [
    "\\begin{array}{c}\n",
    "\\hat{r}_{u i}=\\mu+b_{u}+b_{i} \\\\\n",
    "\\end{array}"
   ]
  },
  {
   "cell_type": "code",
   "execution_count": 30,
   "metadata": {},
   "outputs": [],
   "source": [
    "#  A first-order approximation of the bias involved in rating rui\n",
    "def Baseline_method(matrix, mean, bu, bi):\n",
    "    Pui = np.zeros(len(matrix[:,0]))\n",
    "    for i in range(len(matrix[:,0])):\n",
    "        predvalue = mean + bu[matrix[i,0].astype(int)] + bi[matrix[i,1].astype(int)]\n",
    "        Pui[i] = predvalue\n",
    "    Pui = np.clip(Pui,1,5)\n",
    "    return Pui"
   ]
  },
  {
   "cell_type": "code",
   "execution_count": 66,
   "metadata": {},
   "outputs": [
    {
     "name": "stdout",
     "output_type": "stream",
     "text": [
      "MSE train：4.350566103537018\n",
      "RMSE train：2.085801069981751\n"
     ]
    }
   ],
   "source": [
    "from sklearn.metrics import mean_squared_error\n",
    "bt_pred = Baseline_method(X_train, mean_train, b_user, b_item)\n",
    "mse_train = mean_squared_error(X_train[:,2], bt_pred)\n",
    "print(f\"MSE train：%s\"%mse_train)\n",
    "print(f\"RMSE train：%s\"%(np.sqrt(mse_train)))"
   ]
  },
  {
   "cell_type": "code",
   "execution_count": 67,
   "metadata": {},
   "outputs": [
    {
     "name": "stdout",
     "output_type": "stream",
     "text": [
      "MSE test：4.351767225376472\n",
      "RMSE test：2.0860889782980188\n"
     ]
    }
   ],
   "source": [
    "bte_pred = Baseline_method(X_test, mean_train, b_user, b_item)\n",
    "mse_test = mean_squared_error(X_test[:,2], b_pred)\n",
    "print(f\"MSE test：%s\"%mse_test)\n",
    "print(f\"RMSE test：%s\"%(np.sqrt(mse_test)))"
   ]
  },
  {
   "cell_type": "markdown",
   "metadata": {},
   "source": [
    "\\begin{array}{c}\n",
    "\\hat{r}_{i u}=\\mu_{i}+\\frac{\\sum_{j \\in P} \\operatorname{sim}(i, j) \\cdot s_{j u}}{\\sum_{j \\in P}|\\operatorname{sim}(i, j)|}\n",
    "\\end{array}"
   ]
  },
  {
   "cell_type": "code",
   "execution_count": 21,
   "metadata": {},
   "outputs": [],
   "source": [
    "# KNN method to predict rating \n",
    "def KNN(k, matrix, spa_matrix, mue_item, Corr, pred):\n",
    "    for i in range(len(matrix)):\n",
    "        Interaction = matrix[i,:]\n",
    "        UserID=Interaction[0].astype(int)\n",
    "        ItemID=Interaction[1].astype(int)\n",
    "        # Get the row of ratings from the selected userID in sparse matrix\n",
    "        User_row = np.squeeze(spa_matrix[UserID,:].toarray())\n",
    "        # indexs of non zero ratings\n",
    "        Rated_items = np.array(np.squeeze(np.nonzero(User_row)),ndmin=1) \n",
    "        # similarities between current Item and rated Items\n",
    "        sim_all = Corr[ItemID,Rated_items] \n",
    "        # sorted item ID in descending order\n",
    "        sorted_items = Rated_items[np.argsort(sim_all)[::-1]] \n",
    "        # corresponding sorted similarities in descending order\n",
    "        sorted_sims = sim_all[np.argsort(sim_all)[::-1]] \n",
    "        k_items = sorted_items[0:min(k,len(sorted_items)-1)]\n",
    "        k_sims = sorted_sims[0:min(k,len(sorted_items)-1)]\n",
    "        k_sims = np.clip(k_sims,0,1)\n",
    "        k_ratings = User_row[k_items]\n",
    "        k_mean = mue_item[k_items]\n",
    "        # r(hat)(iu) = mue[i] + sim/|sim|\n",
    "        weighted_sum = np.dot(k_sims, np.subtract(k_ratings,k_mean))\n",
    "        if np.sum(np.abs(k_sims)) > 0:\n",
    "            pred[i] = mue_item[ItemID] + weighted_sum/np.sum(np.abs(k_sims))\n",
    "    pred = np.clip(pred,1,5)\n",
    "    return pred"
   ]
  },
  {
   "cell_type": "markdown",
   "metadata": {},
   "source": [
    "\\begin{array}{c}\n",
    " M S E = \\frac{1}{m} \\sum_{i = 1}^{m}\\left(y_{i}-\\hat{y}_{i}\\right)^{2}\n",
    "\\end{array} \n",
    "\\begin{array}{c}\n",
    "R M S E(X, h)=\\sqrt{\\frac{1}{m} \\sum_{i=1}^{m}\\left(h\\left(x_{i}\\right)-y_{i}\\right)^{2}}\n",
    "\\end{array}"
   ]
  },
  {
   "cell_type": "code",
   "execution_count": 32,
   "metadata": {},
   "outputs": [],
   "source": [
    "def rmse(Y, Y_hat):\n",
    "    # TODO: calculate RMSE\n",
    "    return np.sqrt(np.mean((Y-Y_hat)**2))"
   ]
  },
  {
   "cell_type": "markdown",
   "metadata": {},
   "source": [
    "### KNN train error {neighbor, RMSE, MSE}"
   ]
  },
  {
   "cell_type": "code",
   "execution_count": 91,
   "metadata": {},
   "outputs": [
    {
     "data": {
      "application/vnd.jupyter.widget-view+json": {
       "model_id": "c87a457a8c654314b5a769ff4b691417",
       "version_major": 2,
       "version_minor": 0
      },
      "text/plain": [
       "HBox(children=(FloatProgress(value=0.0, max=34.0), HTML(value='')))"
      ]
     },
     "metadata": {},
     "output_type": "display_data"
    },
    {
     "name": "stdout",
     "output_type": "stream",
     "text": [
      "\n"
     ]
    }
   ],
   "source": [
    "# knn of different k implememnt\n",
    "res = np.empty(shape = (0,3))\n",
    "for k in tqdm(range(1,35)):\n",
    "    Knn_pred = KNN(k, X_train, Xtrain_sparse, mue_item, Corr_train, bt_pred)        \n",
    "    err = rmse(X_train[:,2], Knn_pred)    \n",
    "    M_err = mean_squared_error(X_train[:,2], Knn_pred)\n",
    "    #print(k, err,M_err)\n",
    "    res =  np.r_[res,[[k, err, M_err]]]\n",
    "np.savetxt('KNN_ERROR_train1.csv', res, delimiter = ',')"
   ]
  },
  {
   "cell_type": "code",
   "execution_count": 92,
   "metadata": {},
   "outputs": [],
   "source": [
    "# read error dataset because it take too long to calculate\n",
    "err_train = np.genfromtxt(\"KNN_ERROR_train1.csv\", delimiter=\",\", dtype=np.float)"
   ]
  },
  {
   "cell_type": "code",
   "execution_count": 93,
   "metadata": {},
   "outputs": [
    {
     "data": {
      "text/plain": [
       "<matplotlib.legend.Legend at 0x189e88f8ec8>"
      ]
     },
     "execution_count": 93,
     "metadata": {},
     "output_type": "execute_result"
    },
    {
     "data": {
      "image/png": "[encoded data removed]",
      "text/plain": [
       "<Figure size 432x288 with 1 Axes>"
      ]
     },
     "metadata": {
      "needs_background": "light"
     },
     "output_type": "display_data"
    }
   ],
   "source": [
    "l1=plt.plot(err_train[:,0],err_train[:,2],'r--',label='MSE')\n",
    "l2=plt.plot(err_train[:,0],err_train[:,1],'g--',label='RMSE')\n",
    "\n",
    "plt.title('Error with different k')\n",
    "plt.xlabel('k')\n",
    "plt.ylabel('error')\n",
    "plt.legend()"
   ]
  },
  {
   "cell_type": "markdown",
   "metadata": {},
   "source": [
    "### KNN TEST error {neighbor, RMSE, MSE}"
   ]
  },
  {
   "cell_type": "code",
   "execution_count": 94,
   "metadata": {},
   "outputs": [
    {
     "data": {
      "application/vnd.jupyter.widget-view+json": {
       "model_id": "898252f4b9664a24ab06b62eb4aa038c",
       "version_major": 2,
       "version_minor": 0
      },
      "text/plain": [
       "HBox(children=(FloatProgress(value=0.0, max=35.0), HTML(value='')))"
      ]
     },
     "metadata": {},
     "output_type": "display_data"
    },
    {
     "name": "stdout",
     "output_type": "stream",
     "text": [
      "\n"
     ]
    }
   ],
   "source": [
    "# knn of different k implememnt\n",
    "res = np.empty(shape = (0,3))\n",
    "for k in tqdm(range(1,36)):\n",
    "    Knn_pred = KNN(k, X_test, Xtrain_sparse, mue_item, Corr_train, bte_pred)        \n",
    "    err = rmse(X_test[:,2], Knn_pred)    \n",
    "    M_err = mean_squared_error(X_test[:,2], Knn_pred)\n",
    "    #res.append(k, err,M_err)\n",
    "    res = np.r_[res,[[k, err, M_err]]]\n",
    "np.savetxt('KNN_ERROR_test1.csv', res, delimiter = ',')\n",
    "err_test = np.genfromtxt(\"KNN_ERROR_test1.csv\", delimiter=\",\", dtype=np.float)"
   ]
  },
  {
   "cell_type": "code",
   "execution_count": 96,
   "metadata": {},
   "outputs": [
    {
     "data": {
      "text/plain": [
       "<matplotlib.legend.Legend at 0x189c7804f08>"
      ]
     },
     "execution_count": 96,
     "metadata": {},
     "output_type": "execute_result"
    },
    {
     "data": {
      "image/png": "[encoded data removed]",
      "text/plain": [
       "<Figure size 432x288 with 1 Axes>"
      ]
     },
     "metadata": {
      "needs_background": "light"
     },
     "output_type": "display_data"
    }
   ],
   "source": [
    "l1=plt.plot(err_test[:,0],err_test[:,2],'r--',label='MSE')\n",
    "l2=plt.plot(err_test[:,0],err_test[:,1],'g--',label='RMSE')\n",
    "\n",
    "plt.title('Error with different k')\n",
    "plt.xlabel('k')\n",
    "plt.ylabel('error')\n",
    "plt.legend()"
   ]
  },
  {
   "cell_type": "code",
   "execution_count": 69,
   "metadata": {},
   "outputs": [],
   "source": []
  }
 ],
 "metadata": {
  "kernelspec": {
   "display_name": "Python 3",
   "language": "python",
   "name": "python3"
  },
  "language_info": {
   "codemirror_mode": {
    "name": "ipython",
    "version": 3
   },
   "file_extension": ".py",
   "mimetype": "text/x-python",
   "name": "python",
   "nbconvert_exporter": "python",
   "pygments_lexer": "ipython3",
   "version": "3.7.7"
  }
 },
 "nbformat": 4,
 "nbformat_minor": 4
}
