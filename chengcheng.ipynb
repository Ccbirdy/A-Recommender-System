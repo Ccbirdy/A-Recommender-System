{
 "cells": [
  {
   "cell_type": "markdown",
   "metadata": {},
   "source": [
    "# MLLAB project Recommand System -- chengcheng Guo\n"
   ]
  },
  {
   "cell_type": "markdown",
   "metadata": {},
   "source": [
    "### load data"
   ]
  },
  {
   "cell_type": "code",
   "execution_count": 65,
   "metadata": {},
   "outputs": [],
   "source": [
    "import numpy as np\n",
    "# load data\n",
    "data = np.load('dataset.npy')"
   ]
  },
  {
   "cell_type": "code",
   "execution_count": 56,
   "metadata": {},
   "outputs": [
    {
     "data": {
      "text/plain": [
       "array([[   2,  566,    1],\n",
       "       [   2,  750,    2],\n",
       "       [   2,  391,    1],\n",
       "       ...,\n",
       "       [5498,  516,    2],\n",
       "       [5498,  650,    3],\n",
       "       [5498,  651,    2]])"
      ]
     },
     "execution_count": 56,
     "metadata": {},
     "output_type": "execute_result"
    }
   ],
   "source": [
    "# user, Item , Rating\n",
    "data"
   ]
  },
  {
   "cell_type": "code",
   "execution_count": 41,
   "metadata": {},
   "outputs": [
    {
     "name": "stdout",
     "output_type": "stream",
     "text": [
      "data shape is :  (380311, 3)\n"
     ]
    }
   ],
   "source": [
    "shape_d = data.shape\n",
    "print(\"data shape is : \",shape_d)"
   ]
  },
  {
   "cell_type": "code",
   "execution_count": 87,
   "metadata": {},
   "outputs": [
    {
     "name": "stdout",
     "output_type": "stream",
     "text": [
      "we have 1643 users\n",
      "we have 1194 items\n",
      "we have 5 ratings\n"
     ]
    }
   ],
   "source": [
    "# Getting the counts of  users ,items ,rates\n",
    "import pandas as pd\n",
    "df = pd.DataFrame(data)\n",
    "\n",
    "users, items, ratings = df.nunique()\n",
    "print(\"we have %d users\"%users)\n",
    "print(\"we have %d items\"%items)\n",
    "print(\"we have %d ratings\"%ratings)"
   ]
  },
  {
   "cell_type": "code",
   "execution_count": 89,
   "metadata": {},
   "outputs": [
    {
     "name": "stdout",
     "output_type": "stream",
     "text": [
      "biggest user id:  5498\n",
      "biggest item id:  2079\n"
     ]
    }
   ],
   "source": [
    "print(\"biggest user id: \", np.max(data[:,0]))\n",
    "print(\"biggest item id: \", np.max(data[:,1]))"
   ]
  },
  {
   "cell_type": "code",
   "execution_count": 43,
   "metadata": {},
   "outputs": [
    {
     "data": {
      "text/plain": [
       "0.3963046033377946"
      ]
     },
     "execution_count": 43,
     "metadata": {},
     "output_type": "execute_result"
    }
   ],
   "source": [
    "np.mean(data[:,2])"
   ]
  },
  {
   "cell_type": "code",
   "execution_count": 67,
   "metadata": {},
   "outputs": [
    {
     "data": {
      "image/png": "[encoded data removed]",
      "text/plain": [
       "<Figure size 432x288 with 1 Axes>"
      ]
     },
     "metadata": {
      "needs_background": "light"
     },
     "output_type": "display_data"
    }
   ],
   "source": [
    "import matplotlib.pyplot as plt\n",
    "# Plot histogram\n",
    "unique, counts = np.unique(data[:,2], return_counts=True)\n",
    "plt.bar(unique, counts, align='center', color = \"green\")\n",
    "plt.xticks(unique)\n",
    "plt.xlabel('Rating')\n",
    "plt.ylabel('Sum')\n",
    "plt.title('Distribution of ratings')\n",
    "plt.show()"
   ]
  },
  {
   "cell_type": "code",
   "execution_count": 99,
   "metadata": {},
   "outputs": [],
   "source": [
    "# TODO: Split data into train and test data\n",
    "from sklearn.model_selection import train_test_split\n",
    "# Add 1 to the rating to distinguish no rating and 0\n",
    "data[:,2]=data[:,2]+1\n",
    "\n",
    "X_train, X_test= train_test_split(data, test_size=0.2)"
   ]
  },
  {
   "cell_type": "code",
   "execution_count": 100,
   "metadata": {},
   "outputs": [],
   "source": [
    "# reconstruct dense matrix to Sparse matrix \n",
    "from scipy.sparse import csr_matrix\n",
    "\n",
    "def sparse_matrix(data):\n",
    "    return csr_matrix((data[:,2], (data[:,0].astype(int), data[:,1].astype(int))))"
   ]
  },
  {
   "cell_type": "code",
   "execution_count": 101,
   "metadata": {},
   "outputs": [],
   "source": [
    "Xtrain_sparse = sparse_matrix(X_train)\n",
    "Xtest_sparse  = sparse_matrix(X_test)"
   ]
  },
  {
   "cell_type": "code",
   "execution_count": 74,
   "metadata": {},
   "outputs": [],
   "source": [
    "# Baseline Predictors method b(u,i) = u + b(u) + b(i)\n",
    "mean_train = csr_matrix.sum(Xtrain_sparse)/csr_matrix.count_nonzero(Xtrain_sparse)"
   ]
  },
  {
   "cell_type": "code",
   "execution_count": null,
   "metadata": {},
   "outputs": [],
   "source": []
  },
  {
   "cell_type": "markdown",
   "metadata": {},
   "source": [
    "### KNN"
   ]
  },
  {
   "cell_type": "markdown",
   "metadata": {},
   "source": [
    "Here we want to use the [Pearson correlation coefficient](https://en.wikipedia.org/wiki/Pearson_correlation_coefficient) as a measure for correlation between two items.\n",
    "\n",
    "\n",
    "\n",
    "\\begin{eqnarray}\n",
    "\\operatorname{sim}(i, j) & = & \\frac{\\sum_{u \\in \\operatorname{InJ}}\\left(r_{u i}-\\mu_{i}\\right)\\left(r_{u j}-\\mu_{j}\\right)}{\\sqrt{\\sum_{u \\in \\operatorname{InJ}}\\left(r_{u i}-\\mu_{i}\\right)^{2}} \\sqrt{\\sum_{u \\in I \\cap J}\\left(r_{u j}-\\mu_{j}\\right)^{2}}}\n",
    "\\end{eqnarray}"
   ]
  },
  {
   "cell_type": "code",
   "execution_count": 138,
   "metadata": {},
   "outputs": [],
   "source": [
    "from tqdm.notebook import tqdm"
   ]
  },
  {
   "cell_type": "code",
   "execution_count": null,
   "metadata": {},
   "outputs": [],
   "source": [
    "def Pearson_corr(matrix):\n",
    "    # Calculate average ratings of ith item across users\n",
    "    user_num, item_num = matrix.shape\n",
    "    count_nonzeros = [csr_matrix.count_nonzero(matrix[:,i]) for i in range(item_num)]\n",
    "    \n",
    "    r_ui = csr_matrix.sum(matrix, axis = 0)\n",
    "    mue_item = [0 if count_nonzeros[i] == 0 else r_ui[0,i]/count_nonzeros[i] for i in range(item_num)]\n",
    "    \n",
    "    Corr = np.full(shape=(item_num,item_num),fill_value=-float('inf'),dtype=float)\n",
    "    # Calculate Pearson correlation matrix\n",
    "    for i in tqdm(range(item_num)):\n",
    "        u = np.squeeze(matrix[:,i].toarray())\n",
    "        mue_u=mue_item[i]\n",
    "        u = [(u[n] - mue_item[i]) if u[n] > 0 else 0 for n in range(user_num)]\n",
    "        u_d = np.sqrt(np.dot(u,u))\n",
    "        for j in range(i,item_num):\n",
    "            u2 = np.squeeze(matrix[:,i].toarray())\n",
    "            mue_u2=mue_item[i]\n",
    "            u2 = [(u2[n] - mue_item[i]) if u2[n] > 0 else 0 for n in range(user_num)]\n",
    "            u2_denominator = np.sqrt(np.dot(u2,u2))\n",
    "            # calculate numerator of Item similarity function\n",
    "            sim_numerator = np.dot(u,u2)\n",
    "            \n",
    "            sim_d = u_d*u2_denominator\n",
    "            if sim_d!=0:\n",
    "                sim=sim_numerator/sim_denominator\n",
    "            else:\n",
    "                sim=-float('inf')\n",
    "            Corr[i,j]=sim\n",
    "            Corr[j,i]=sim\n",
    "                        \n",
    "    return Corr"
   ]
  },
  {
   "cell_type": "code",
   "execution_count": null,
   "metadata": {},
   "outputs": [],
   "source": [
    "%%time\n",
    "Pearson_corr(Xtrain_sparse)"
   ]
  },
  {
   "cell_type": "code",
   "execution_count": null,
   "metadata": {},
   "outputs": [
    {
     "data": {
      "application/vnd.jupyter.widget-view+json": {
       "model_id": "56cd3053c7dc4267b270eecbf61f82d3",
       "version_major": 2,
       "version_minor": 0
      },
      "text/plain": [
       "HBox(children=(FloatProgress(value=0.0, max=2080.0), HTML(value='')))"
      ]
     },
     "metadata": {},
     "output_type": "display_data"
    }
   ],
   "source": [
    "%%time\n",
    "Pearson_corr(Xtest_sparse)"
   ]
  },
  {
   "cell_type": "code",
   "execution_count": 71,
   "metadata": {},
   "outputs": [],
   "source": [
    "# KNN method predicts ratings\n",
    "def KNN(k, matrix, spa_matrix, mean_item, Corr, pred):\n",
    "    for i in range(len(matrix)):\n",
    "        Interaction = matrix[i,:]\n",
    "        UserID=Interaction[0].astype(int)\n",
    "        ItemID=Interaction[1].astype(int)\n",
    "        # Get the row of ratings from the selected userID in sparse matrix\n",
    "        User_row = np.squeeze(spa_matrix[UserID,:].toarray())\n",
    "        Rated_items = np.array(np.squeeze(np.nonzero(User_row)),ndmin=1) # indices of non zero ratings\n",
    "        sim_all = Corr[ItemID,Rated_items] # all the similarities between current Item and rated Items\n",
    "        sorted_items = Rated_items[np.argsort(sim_all)[::-1]] # sorted item ID in descending order\n",
    "        sorted_sims = sim_all[np.argsort(sim_all)[::-1]] # corresponding sorted similarities in descending order\n",
    "        k_items = sorted_items[0:min(k,len(sorted_items)-1)]\n",
    "        k_sims = sorted_sims[0:min(k,len(sorted_items)-1)]\n",
    "        k_sims = np.clip(k_sims,0,1)\n",
    "        k_ratings = User_row[k_items]\n",
    "        k_mean = mean_item[k_items]\n",
    "        weighted_sum = np.dot(k_sims, np.subtract(k_ratings,k_mean))\n",
    "        if np.sum(np.abs(k_sims)) > 0:\n",
    "            pred[i] = mean_item[ItemID] + weighted_sum/np.sum(np.abs(k_sims))\n",
    "    pred = np.clip(pred,1,5)\n",
    "    return pred"
   ]
  },
  {
   "cell_type": "code",
   "execution_count": null,
   "metadata": {},
   "outputs": [],
   "source": []
  },
  {
   "cell_type": "code",
   "execution_count": 69,
   "metadata": {},
   "outputs": [],
   "source": []
  },
  {
   "cell_type": "code",
   "execution_count": null,
   "metadata": {},
   "outputs": [],
   "source": []
  },
  {
   "cell_type": "code",
   "execution_count": null,
   "metadata": {},
   "outputs": [],
   "source": []
  },
  {
   "cell_type": "code",
   "execution_count": null,
   "metadata": {},
   "outputs": [],
   "source": []
  },
  {
   "cell_type": "code",
   "execution_count": null,
   "metadata": {},
   "outputs": [],
   "source": []
  },
  {
   "cell_type": "code",
   "execution_count": null,
   "metadata": {},
   "outputs": [],
   "source": []
  },
  {
   "cell_type": "code",
   "execution_count": 70,
   "metadata": {},
   "outputs": [],
   "source": [
    "def rmse(Y, Y_hat):\n",
    "    # TODO: calculate RMSE\n",
    "    return np.sqrt(np.mean((Y-Y_hat)**2))"
   ]
  },
  {
   "cell_type": "code",
   "execution_count": null,
   "metadata": {},
   "outputs": [],
   "source": []
  },
  {
   "cell_type": "code",
   "execution_count": null,
   "metadata": {},
   "outputs": [],
   "source": []
  },
  {
   "cell_type": "code",
   "execution_count": null,
   "metadata": {},
   "outputs": [],
   "source": []
  },
  {
   "cell_type": "code",
   "execution_count": null,
   "metadata": {},
   "outputs": [],
   "source": []
  },
  {
   "cell_type": "code",
   "execution_count": null,
   "metadata": {},
   "outputs": [],
   "source": []
  },
  {
   "cell_type": "code",
   "execution_count": null,
   "metadata": {},
   "outputs": [],
   "source": []
  },
  {
   "cell_type": "code",
   "execution_count": null,
   "metadata": {},
   "outputs": [],
   "source": []
  },
  {
   "cell_type": "code",
   "execution_count": null,
   "metadata": {},
   "outputs": [],
   "source": []
  }
 ],
 "metadata": {
  "kernelspec": {
   "display_name": "Python 3",
   "language": "python",
   "name": "python3"
  },
  "language_info": {
   "codemirror_mode": {
    "name": "ipython",
    "version": 3
   },
   "file_extension": ".py",
   "mimetype": "text/x-python",
   "name": "python",
   "nbconvert_exporter": "python",
   "pygments_lexer": "ipython3",
   "version": "3.7.7"
  }
 },
 "nbformat": 4,
 "nbformat_minor": 4
}
